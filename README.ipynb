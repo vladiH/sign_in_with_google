{
 "cells": [
  {
   "cell_type": "markdown",
   "id": "cc8f4fb3-eac3-4de7-9b39-e11a3f48ac5b",
   "metadata": {},
   "source": [
    "## Google Sign In.\n",
    "Flutter configuration to deal Google sign in authentication. "
   ]
  },
  {
   "cell_type": "markdown",
   "id": "c063b58f-2290-4aeb-9696-de08678b251f",
   "metadata": {},
   "source": [
    "## Firebase configuration\n",
    "\n",
    "1. Open [Firebase console](https://console.firebase.google.com/) and create a new project.\n",
    "2. Choose one of them(android, ios or web).<br>\n",
    "![](./sign-in/1.PNG)\n",
    "3. Depending on the platform, follow the instructions below."
   ]
  },
  {
   "cell_type": "markdown",
   "id": "592cd897-faa1-4cde-b51f-a76a3417fd4a",
   "metadata": {},
   "source": [
    "### Setup for Android\n",
    "More info in `<google_sign_in>` : <https://pub.dev/packages/google_sign_in>.\n",
    "1. Configuration screen is shows and register your application as the next picture.<br>\n",
    "![](./sign-in/5.PNG)\n",
    "2. Copy project id from **android>app>src>main>AndroidManifest.xml** in **A**. <br>\n",
    "![](./sign-in/3.PNG)\n",
    "3. Put application name in **B**\n",
    "4. Go to project's android directory, then run the following command in the terminal and copy the first generated sha1 key in **C**.<br>\n",
    "```sh\n",
    "> cd .\\android\\\n",
    "> ./gradlew signingReport\n",
    "```\n",
    "5. Press in **Registrar app**\n",
    "6. Download **google-services.json** file, then move or copy it into **android>app>** directory. Finally press **next** til end."
   ]
  },
  {
   "cell_type": "markdown",
   "id": "ab98d7b9-2c96-4917-995e-e7b308c5bf4c",
   "metadata": {},
   "source": [
    "### Setup for IOS\n",
    "More info in `<google_sign_in>` : <https://pub.dev/packages/google_sign_in>\n",
    "1. Configuration screen is shows and register your application as the next picture.<br>\n",
    "![](./sign-in/6.PNG)\n",
    "2. Copy project id from **ios\\Runner.xcodeproj\\project.pbxproj** (PRODUCT_BUNDLE_IDENTIFIER) in **A**. <br>\n",
    "3. Put application name in **B**\n",
    "4. Make sure the file you download in step 1 is named GoogleService-Info.plist.\n",
    "5. Move or copy GoogleService-Info.plist into the [my_project]/ios/Runner directory.\n",
    "6. Open Xcode, then right-click on Runner directory and select Add Files to \"Runner\".\n",
    "7. Select GoogleService-Info.plist from the file manager.\n",
    "8. A dialog will show up and ask you to select the targets, select the Runner target.\n",
    "9. Then add the CFBundleURLTypes attributes below into the [my_project]/ios/Runner/Info.plist file. <br>"
   ]
  },
  {
   "cell_type": "markdown",
   "id": "acc459eb-5293-4228-a83e-85d7f66b1115",
   "metadata": {},
   "source": [
    "```javascript\n",
    "<!-- Put me in the [my_project]/ios/Runner/Info.plist file -->\n",
    "<!-- Google Sign-in Section -->\n",
    "<key>CFBundleURLTypes</key>\n",
    "<array>\n",
    "\t<dict>\n",
    "\t\t<key>CFBundleTypeRole</key>\n",
    "\t\t<string>Editor</string>\n",
    "\t\t<key>CFBundleURLSchemes</key>\n",
    "\t\t<array>\n",
    "\t\t\t<!-- TODO Replace this value: -->\n",
    "\t\t\t<!-- Copied from GoogleService-Info.plist key REVERSED_CLIENT_ID -->\n",
    "\t\t\t<string>com.googleusercontent.apps.861823949799-vc35cprkp249096uujjn0vvnmcvjppkn</string>\n",
    "\t\t</array>\n",
    "\t</dict>\n",
    "</array>\n",
    "<!-- End of the Google Sign-in Section -->\n",
    "```"
   ]
  },
  {
   "cell_type": "markdown",
   "id": "d3e3845b-a6d6-4ac2-b561-228a1fc948b8",
   "metadata": {},
   "source": [
    "### Warning\n",
    "If authentication doesn't work, go to  [Google Developers Console](https://console.cloud.google.com/apis/dashboard), select project and **OAuth consent screen**<br>\n",
    "\n",
    "![](./sign-in/7.PNG)\n",
    "\n",
    "After that, choose an option according to your requirements and follow the instructions."
   ]
  },
  {
   "cell_type": "code",
   "execution_count": null,
   "id": "54195a7c-afd5-46d9-881c-f6d500ccdd08",
   "metadata": {},
   "outputs": [],
   "source": []
  }
 ],
 "metadata": {
  "kernelspec": {
   "display_name": "Python 3 (ipykernel)",
   "language": "python",
   "name": "python3"
  },
  "language_info": {
   "codemirror_mode": {
    "name": "ipython",
    "version": 3
   },
   "file_extension": ".py",
   "mimetype": "text/x-python",
   "name": "python",
   "nbconvert_exporter": "python",
   "pygments_lexer": "ipython3",
   "version": "3.8.10"
  }
 },
 "nbformat": 4,
 "nbformat_minor": 5
}
